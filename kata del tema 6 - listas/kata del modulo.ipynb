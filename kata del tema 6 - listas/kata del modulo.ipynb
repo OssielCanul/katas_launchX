{
 "cells": [
  {
   "cell_type": "markdown",
   "metadata": {},
   "source": [
    "##  Aqui empieza primer ejercicio"
   ]
  },
  {
   "cell_type": "code",
   "execution_count": 1,
   "metadata": {},
   "outputs": [
    {
     "name": "stdout",
     "output_type": "stream",
     "text": [
      "Hay 8 en el sistema solar\n"
     ]
    }
   ],
   "source": [
    "planetas  = ['Mercurio', 'Venus', 'Tierra', 'Marte', 'Jupiter', 'Saturno', 'Urano', 'Neptuno']\n",
    "numeroplanetas = len(planetas)\n",
    "print('Hay', numeroplanetas, 'planetas en el sistema solar')"
   ]
  },
  {
   "cell_type": "code",
   "execution_count": 3,
   "metadata": {},
   "outputs": [
    {
     "name": "stdout",
     "output_type": "stream",
     "text": [
      "Hay 10 planetas en el sistema solar, asi como el planeta Pluton que es el ultimo en el sistema solar\n"
     ]
    }
   ],
   "source": [
    "planetas.append('Pluton')\n",
    "numeroplanetas = len(planetas)\n",
    "print('Hay', numeroplanetas, 'planetas en el sistema solar, asi como el planeta', planetas[-1], 'que es el ultimo en el sistema solar')"
   ]
  },
  {
   "cell_type": "markdown",
   "metadata": {},
   "source": [
    "## Aqui empieza el segundo ejercicio"
   ]
  },
  {
   "cell_type": "code",
   "execution_count": 41,
   "metadata": {},
   "outputs": [],
   "source": [
    "planetas = ['Mercurio', 'Venus', 'Tierra', 'Marte', 'Jupiter', 'Saturno', 'Urano', 'Neptuno']\n",
    "numeromax = len(planetas)"
   ]
  },
  {
   "cell_type": "code",
   "execution_count": 48,
   "metadata": {},
   "outputs": [],
   "source": [
    "nombreplaneta = input('Digite el planeta a buscar, Nota: Empiece con la primera letra mayuscula y las demas en mimnusculas')\n"
   ]
  },
  {
   "cell_type": "code",
   "execution_count": 49,
   "metadata": {},
   "outputs": [],
   "source": [
    "buscarplaneta = planetas.index(nombreplaneta)"
   ]
  },
  {
   "cell_type": "code",
   "execution_count": 50,
   "metadata": {},
   "outputs": [
    {
     "name": "stdout",
     "output_type": "stream",
     "text": [
      "Los planetas mas cercanos al sol son ['Mercurio', 'Venus', 'Tierra']\n"
     ]
    }
   ],
   "source": [
    "planetascercanos = planetas[0:buscarplaneta]\n",
    "print('Los planetas mas cercanos al sol son', planetascercanos)"
   ]
  },
  {
   "cell_type": "code",
   "execution_count": 51,
   "metadata": {},
   "outputs": [
    {
     "name": "stdout",
     "output_type": "stream",
     "text": [
      "Los planetas mas alejados al sol son ['Jupiter', 'Saturno', 'Urano', 'Neptuno']\n"
     ]
    }
   ],
   "source": [
    "planetasalejados = planetas[buscarplaneta + 1:numeromax]\n",
    "print('Los planetas mas alejados al sol son', planetasalejados)"
   ]
  },
  {
   "cell_type": "code",
   "execution_count": null,
   "metadata": {},
   "outputs": [],
   "source": []
  }
 ],
 "metadata": {
  "interpreter": {
   "hash": "818fd332fc66df60f2dcf726f70906590ff1a396d4347d2966199a6dcd0defbb"
  },
  "kernelspec": {
   "display_name": "Python 3.10.2 64-bit",
   "language": "python",
   "name": "python3"
  },
  "language_info": {
   "codemirror_mode": {
    "name": "ipython",
    "version": 3
   },
   "file_extension": ".py",
   "mimetype": "text/x-python",
   "name": "python",
   "nbconvert_exporter": "python",
   "pygments_lexer": "ipython3",
   "version": "3.10.2"
  },
  "orig_nbformat": 4
 },
 "nbformat": 4,
 "nbformat_minor": 2
}
