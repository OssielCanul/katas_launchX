{
 "cells": [
  {
   "cell_type": "code",
   "execution_count": 31,
   "metadata": {},
   "outputs": [],
   "source": [
    "Tierra = 149597870\n",
    "Jupiter = 778547200"
   ]
  },
  {
   "cell_type": "code",
   "execution_count": 45,
   "metadata": {},
   "outputs": [
    {
     "name": "stdout",
     "output_type": "stream",
     "text": [
      "628949330\n"
     ]
    }
   ],
   "source": [
    "from math import *\n",
    "\n",
    "Calculotierrajupiterkm = int(Tierra) - int(Jupiter)\n",
    "\n",
    "print(abs(Calculotierrajupiterkm))"
   ]
  },
  {
   "cell_type": "code",
   "execution_count": 47,
   "metadata": {},
   "outputs": [
    {
     "name": "stdout",
     "output_type": "stream",
     "text": [
      "390577534\n"
     ]
    }
   ],
   "source": [
    "from math import *\n",
    "\n",
    "Calculotierraajupitermll = (int(Jupiter) - int(Tierra)) * 0.621\n",
    "\n",
    "redondeo1 = round(Calculotierraajupitermll)\n",
    "\n",
    "print(abs(redondeo1))"
   ]
  },
  {
   "cell_type": "markdown",
   "metadata": {},
   "source": [
    "# Aquí empieza el segundo ejercicio"
   ]
  },
  {
   "cell_type": "code",
   "execution_count": 64,
   "metadata": {},
   "outputs": [],
   "source": [
    "primerplaneta = input(\"Dime la distancia del primer planeta al sol\")\n",
    "segundoplaneta = input(\"Dime la distancia del segundo planeta al sol\")\n",
    "\n"
   ]
  },
  {
   "cell_type": "code",
   "execution_count": 65,
   "metadata": {},
   "outputs": [],
   "source": [
    "primerint = int(primerplaneta)\n",
    "segundoint = int(segundoplaneta)\n"
   ]
  },
  {
   "cell_type": "code",
   "execution_count": 76,
   "metadata": {},
   "outputs": [
    {
     "name": "stdout",
     "output_type": "stream",
     "text": [
      "El calculo en kilometros en los dos planetas es de  628949330  km/s\n",
      "El calculo en millas en los dos planetas es de  390577534  millas/s\n"
     ]
    }
   ],
   "source": [
    "calculo = abs(primerint - segundoint)\n",
    "print('El calculo en kilometros en los dos planetas es de ', calculo ,' km/s')\n",
    "\n",
    "calculomll = round(abs(calculo * 0.621))\n",
    "print('El calculo en millas en los dos planetas es de ', calculomll,' millas/s')\n"
   ]
  }
 ],
 "metadata": {
  "interpreter": {
   "hash": "818fd332fc66df60f2dcf726f70906590ff1a396d4347d2966199a6dcd0defbb"
  },
  "kernelspec": {
   "display_name": "Python 3.10.2 64-bit",
   "language": "python",
   "name": "python3"
  },
  "language_info": {
   "codemirror_mode": {
    "name": "ipython",
    "version": 3
   },
   "file_extension": ".py",
   "mimetype": "text/x-python",
   "name": "python",
   "nbconvert_exporter": "python",
   "pygments_lexer": "ipython3",
   "version": "3.10.2"
  },
  "orig_nbformat": 4
 },
 "nbformat": 4,
 "nbformat_minor": 2
}
