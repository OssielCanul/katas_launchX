{
 "cells": [
  {
   "cell_type": "code",
   "execution_count": 1,
   "metadata": {},
   "outputs": [],
   "source": [
    "def promedio(primero, segundo, tercero):\n",
    "    promtotal = (primero + segundo + tercero) / 3\n",
    "    return f'El promedio de los 3 tanques es de {promtotal}'"
   ]
  },
  {
   "cell_type": "code",
   "execution_count": 3,
   "metadata": {},
   "outputs": [
    {
     "data": {
      "text/plain": [
       "'El promedio de los 3 tanques es de 33.333333333333336'"
      ]
     },
     "execution_count": 3,
     "metadata": {},
     "output_type": "execute_result"
    }
   ],
   "source": [
    ">>> promedio(10,80,10)"
   ]
  },
  {
   "cell_type": "code",
   "execution_count": 4,
   "metadata": {},
   "outputs": [
    {
     "name": "stdout",
     "output_type": "stream",
     "text": [
      "El promedio de los 3 tanques es de 33.333333333333336\n"
     ]
    }
   ],
   "source": [
    "print(promedio(10,80,10))"
   ]
  },
  {
   "cell_type": "code",
   "execution_count": 5,
   "metadata": {},
   "outputs": [],
   "source": [
    "def valores(valor):\n",
    "    total = sum(valor)\n",
    "    numero = len(valor)\n",
    "    return total / numero"
   ]
  },
  {
   "cell_type": "code",
   "execution_count": 6,
   "metadata": {},
   "outputs": [
    {
     "data": {
      "text/plain": [
       "82.0"
      ]
     },
     "execution_count": 6,
     "metadata": {},
     "output_type": "execute_result"
    }
   ],
   "source": [
    ">>> valores([80, 85, 81])"
   ]
  },
  {
   "cell_type": "code",
   "execution_count": 7,
   "metadata": {},
   "outputs": [],
   "source": [
    "def promedio(primero, segundo, tercero):\n",
    "    promtotal = {valores([primero + segundo + tercero])}\n",
    "    return f'El promedio de los 3 tanques es de {promtotal}'"
   ]
  },
  {
   "cell_type": "code",
   "execution_count": 8,
   "metadata": {},
   "outputs": [
    {
     "name": "stdout",
     "output_type": "stream",
     "text": [
      "El promedio de los 3 tanques es de {234.0}\n"
     ]
    }
   ],
   "source": [
    "print (promedio(88, 76, 70))"
   ]
  },
  {
   "cell_type": "markdown",
   "metadata": {},
   "source": [
    "## Aqui empieza el ejercicio 2"
   ]
  },
  {
   "cell_type": "code",
   "execution_count": 13,
   "metadata": {},
   "outputs": [],
   "source": [
    "def reporte(prelanzamiento, tiempo, destino, tanqueext, tanqueint):\n",
    "    return f\"\"\"\n",
    "    El cohete se va a {destino}\n",
    "    con una suma de tiempo de {prelanzamiento + tiempo} de minutos\n",
    "    y con un total de gas de {tanqueext + tanqueint} de litros\"\"\""
   ]
  },
  {
   "cell_type": "code",
   "execution_count": 14,
   "metadata": {},
   "outputs": [
    {
     "name": "stdout",
     "output_type": "stream",
     "text": [
      "\n",
      "    El cohete se va a Tierra\n",
      "    con una suma de tiempo de 50 de minutos\n",
      "    y con un total de gas de 40 de litros\n"
     ]
    }
   ],
   "source": [
    "print(reporte(10, 40, \"Tierra\", 20, 20))"
   ]
  },
  {
   "cell_type": "code",
   "execution_count": 19,
   "metadata": {},
   "outputs": [],
   "source": [
    "def reporte(destino, *minutos, **tanquess):\n",
    "    return f\"\"\"\n",
    "    El cohete se va a {destino}\n",
    "    con una suma de tiempo de {sum(minutos)} de minutos\n",
    "    y con un total de gas de {sum(tanquess.values())} de litros\"\"\""
   ]
  },
  {
   "cell_type": "code",
   "execution_count": 20,
   "metadata": {},
   "outputs": [
    {
     "name": "stdout",
     "output_type": "stream",
     "text": [
      "\n",
      "    El cohete se va a Tierra\n",
      "    con una suma de tiempo de 50 de minutos\n",
      "    y con un total de gas de 40 de litros\n"
     ]
    }
   ],
   "source": [
    "print(reporte(\"Tierra\", 10, 40, derecho=20, izquierdo=20))"
   ]
  },
  {
   "cell_type": "code",
   "execution_count": 27,
   "metadata": {},
   "outputs": [],
   "source": [
    "def reporte2(destino, *minutos, **tanquess):\n",
    "    reportes = f\"\"\"\n",
    "    El cohete se va a {destino}\n",
    "    con una suma de tiempo de {sum(minutos)} de minutos\n",
    "    y con un total de gas de {sum(tanquess.values())} de litros\n",
    "    \"\"\"\n",
    "\n",
    "    for tanque, litros in tanquess.items():\n",
    "        reportes += f\"{tanque} tanque con {litros} litros restantes\\n\"\n",
    "    \n",
    "    return reportes\n"
   ]
  },
  {
   "cell_type": "code",
   "execution_count": 28,
   "metadata": {},
   "outputs": [
    {
     "name": "stdout",
     "output_type": "stream",
     "text": [
      "\n",
      "    El cohete se va a tierra\n",
      "    con una suma de tiempo de 50 de minutos\n",
      "    y con un total de gas de 40 de litros\n",
      "    derecha tanque con 20 litros restantes\n",
      "izquierda tanque con 20 litros restantes\n",
      "\n"
     ]
    }
   ],
   "source": [
    "print (reporte2(\"tierra\", 10, 40, derecha = 20, izquierda=20))"
   ]
  },
  {
   "cell_type": "code",
   "execution_count": null,
   "metadata": {},
   "outputs": [],
   "source": []
  }
 ],
 "metadata": {
  "interpreter": {
   "hash": "818fd332fc66df60f2dcf726f70906590ff1a396d4347d2966199a6dcd0defbb"
  },
  "kernelspec": {
   "display_name": "Python 3.10.2 64-bit",
   "language": "python",
   "name": "python3"
  },
  "language_info": {
   "codemirror_mode": {
    "name": "ipython",
    "version": 3
   },
   "file_extension": ".py",
   "mimetype": "text/x-python",
   "name": "python",
   "nbconvert_exporter": "python",
   "pygments_lexer": "ipython3",
   "version": "3.10.2"
  },
  "orig_nbformat": 4
 },
 "nbformat": 4,
 "nbformat_minor": 2
}
