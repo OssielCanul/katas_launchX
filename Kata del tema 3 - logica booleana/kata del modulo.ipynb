{
 "cells": [
  {
   "cell_type": "code",
   "execution_count": 8,
   "metadata": {},
   "outputs": [
    {
     "name": "stdout",
     "output_type": "stream",
     "text": [
      "correle que el asteroide se acerca\n"
     ]
    }
   ],
   "source": [
    "vda = input('digite la velocidad del asteroide')\n",
    "\n",
    "\n",
    "if (int(vda) > 49):\n",
    "    print(\"correle que el asteroide se acerca\")\n",
    "elif (int(vda) >= 20):\n",
    "    print(\"se ve el rayo de luz eseee\")\n",
    "else:\n",
    "    print(\"aun no se ve el rayo de luz\")\n",
    "\n",
    "\n",
    "\n"
   ]
  },
  {
   "cell_type": "code",
   "execution_count": 15,
   "metadata": {},
   "outputs": [
    {
     "name": "stdout",
     "output_type": "stream",
     "text": [
      "Dile adios al mundo\n"
     ]
    }
   ],
   "source": [
    "vda = input('digite la magnitud del asteroide')\n",
    "ma = input('digite la velocidad del asteroide')\n",
    "\n",
    "vdai = int(vda)\n",
    "mai = int(ma)\n",
    "\n",
    "if(vdai > 25 and mai < 1000):\n",
    "    print(\"Dile adios al mundo\")\n"
   ]
  },
  {
   "cell_type": "code",
   "execution_count": 18,
   "metadata": {},
   "outputs": [
    {
     "name": "stdout",
     "output_type": "stream",
     "text": [
      "aun no se ve el rayo de luz, sigue con tu día\n"
     ]
    }
   ],
   "source": [
    "vda = input('digite la velocidad del asteroide')\n",
    "ma = input('digite la magnitud del asteroide')\n",
    "\n",
    "vdai = int(vda)\n",
    "mai = int(ma)\n",
    "\n",
    "if (vdai > 49 and mai > 25 and mai < 1000):\n",
    "    print(\"correle que el asteroide se acerca y es muy grande\")\n",
    "elif (vdai >= 20):\n",
    "    print(\"se ve el rayo de luz eseee\")\n",
    "else:\n",
    "    print(\"aun no se ve el rayo de luz, sigue con tu día\")\n",
    "\n"
   ]
  }
 ],
 "metadata": {
  "interpreter": {
   "hash": "818fd332fc66df60f2dcf726f70906590ff1a396d4347d2966199a6dcd0defbb"
  },
  "kernelspec": {
   "display_name": "Python 3.10.2 64-bit",
   "language": "python",
   "name": "python3"
  },
  "language_info": {
   "codemirror_mode": {
    "name": "ipython",
    "version": 3
   },
   "file_extension": ".py",
   "mimetype": "text/x-python",
   "name": "python",
   "nbconvert_exporter": "python",
   "pygments_lexer": "ipython3",
   "version": "3.10.2"
  },
  "orig_nbformat": 4
 },
 "nbformat": 4,
 "nbformat_minor": 2
}
